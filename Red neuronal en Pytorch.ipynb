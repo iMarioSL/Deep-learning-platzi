{
 "cells": [
  {
   "cell_type": "markdown",
   "id": "7ad90fa1-f729-413c-8f74-415e150a73be",
   "metadata": {},
   "source": [
    "## Como crear una red neuronal en Pytorch"
   ]
  },
  {
   "cell_type": "code",
   "execution_count": 9,
   "id": "a0643592-dff7-41c4-8f13-1ab478218e8a",
   "metadata": {},
   "outputs": [],
   "source": [
    "import torch\n",
    "import torch.nn as nn\n",
    "import torch.nn.functional as F # capas sin parametros"
   ]
  },
  {
   "cell_type": "code",
   "execution_count": 13,
   "id": "04ecf7dc-df78-46d4-a117-d1e3a5d83f04",
   "metadata": {},
   "outputs": [
    {
     "data": {
      "text/plain": [
       "device(type='cuda')"
      ]
     },
     "execution_count": 13,
     "metadata": {},
     "output_type": "execute_result"
    }
   ],
   "source": [
    "device = torch.device(\"cuda\" if torch.cuda.is_available() else \"cpu\")\n",
    "device"
   ]
  },
  {
   "cell_type": "code",
   "execution_count": 14,
   "id": "1855d54b-833d-401e-978d-a05a0de55450",
   "metadata": {},
   "outputs": [],
   "source": [
    "class Net(nn.Module):\n",
    "    \n",
    "    def __init__(self, num_channels):\n",
    "        super(Net, self).__init__()      \n",
    "        self.num_channels = num_channels\n",
    "        \n",
    "        # Definimos las capas conv\n",
    "        self.conv1 = nn.Conv2d(3, self.num_channels, 3, stride=1, padding=1)\n",
    "        self.conv2 = nn.Conv2d(self.num_channels, self.num_channels*2, 3, stride=1, padding=1)\n",
    "        self.conv3 = nn.Conv2d(self.num_channels*2, self.num_channels*4, 3, stride=1, padding=1)\n",
    "        \n",
    "        # Definimos las capas Fully-Connected\n",
    "        self.fc1 = nn.Linear(self.num_channels*4*8*8, self.num_channels*4)\n",
    "        self.fc2 = nn.Linear(self.num_channels*4, 6)\n",
    "        \n",
    "        def forward(self, x):\n",
    "            # Empieza 3x64x64\n",
    "            x = self.conv1(x) # -> num_channels x 64 x 64\n",
    "            x = F.relu(F.max_pool2d(x, 2)) # -> num_channels x 32 x 32\n",
    "            x = self.conv2(x) # -> num_channels*2 x 32 x 32\n",
    "            x = F.relu(F.max_pool2d(x, 2)) # -> num_channels*2 x 16 x 16\n",
    "            x = self.conv3(x) # -> num_channels*4 x 16 x 16\n",
    "            x = F.relu(F.max_pool2d(x, 2)) # -> num_channels*4 x 8 x 8\n",
    "            \n",
    "            # Flatten\n",
    "            x = x.view(-1, self.num_channels*4*8*8)\n",
    "            \n",
    "            # Fully Connected\n",
    "            x = self.fc1(x)\n",
    "            x = F.relu(x)\n",
    "            x = self.fc2(x)\n",
    "            \n",
    "            # log SoftMax\n",
    "            x = F.log_softmax(x, dim=1)\n",
    "            \n",
    "            return x"
   ]
  },
  {
   "cell_type": "markdown",
   "id": "5f795c10-b5cf-43f9-ae5e-d27f6cf8d03d",
   "metadata": {},
   "source": [
    "## Carga de datos"
   ]
  },
  {
   "cell_type": "code",
   "execution_count": 47,
   "id": "9e6f029d-d00c-4c63-ae7c-4a7519dc5c72",
   "metadata": {},
   "outputs": [],
   "source": [
    "import sys\n",
    "sys.path.append('/dl-pytorch/datasets/')"
   ]
  },
  {
   "cell_type": "code",
   "execution_count": 48,
   "id": "983faed4-d07f-4b97-b230-3c9eb15ddd6d",
   "metadata": {},
   "outputs": [],
   "source": [
    "import os\n",
    "from PIL import Image\n",
    "from torch.utils.data import Dataset, DataLoader\n",
    "\n",
    "class SIGNSDataset(Dataset):\n",
    "    def __init__(self, base_dir, split='train', transform=None):\n",
    "        path = os.path.join(base_dir, \"{}_signs\".format(split))\n",
    "        files = os.listdir(path)\n",
    "        \n",
    "        self.filesnames = [os.path.join(path, f) for f in files if f.endswith(\".jpg\")]\n",
    "        \n",
    "        self.targets = [int(f[0]) for f in files]\n",
    "        self.transfrom = transform\n",
    "        \n",
    "    def __len__(self):\n",
    "        return len(self.filenames)\n",
    "    \n",
    "    def __getitem(self, idx):\n",
    "        image = Image.open(self.filenames[idx])\n",
    "        if self.transform:\n",
    "            image = self.transform(image)\n",
    "        return image, self.targets[idx]"
   ]
  },
  {
   "cell_type": "code",
   "execution_count": 49,
   "id": "cf43d523-c4fd-4a0e-a2d7-48c4db44a15e",
   "metadata": {},
   "outputs": [],
   "source": [
    "signs = SIGNSDataset(\"C:\\\\Users\\\\masan\\\\Desktop\\\\Cursos Platzi\\\\Deep learning con Pytorch\\\\dl-pytorch\\\\datasets\", split=\"train\")"
   ]
  },
  {
   "cell_type": "code",
   "execution_count": 50,
   "id": "027330b0-37b3-462c-949a-771fb4b36315",
   "metadata": {},
   "outputs": [
    {
     "ename": "AttributeError",
     "evalue": "",
     "output_type": "error",
     "traceback": [
      "\u001b[1;31m---------------------------------------------------------------------------\u001b[0m",
      "\u001b[1;31mAttributeError\u001b[0m                            Traceback (most recent call last)",
      "\u001b[1;32m<ipython-input-50-60e3bd2239ef>\u001b[0m in \u001b[0;36m<module>\u001b[1;34m\u001b[0m\n\u001b[1;32m----> 1\u001b[1;33m \u001b[0mlen\u001b[0m\u001b[1;33m(\u001b[0m\u001b[0msigns\u001b[0m\u001b[1;33m)\u001b[0m\u001b[1;33m\u001b[0m\u001b[1;33m\u001b[0m\u001b[0m\n\u001b[0m",
      "\u001b[1;32m<ipython-input-48-b527e9fc68c5>\u001b[0m in \u001b[0;36m__len__\u001b[1;34m(self)\u001b[0m\n\u001b[0;32m     14\u001b[0m \u001b[1;33m\u001b[0m\u001b[0m\n\u001b[0;32m     15\u001b[0m     \u001b[1;32mdef\u001b[0m \u001b[0m__len__\u001b[0m\u001b[1;33m(\u001b[0m\u001b[0mself\u001b[0m\u001b[1;33m)\u001b[0m\u001b[1;33m:\u001b[0m\u001b[1;33m\u001b[0m\u001b[1;33m\u001b[0m\u001b[0m\n\u001b[1;32m---> 16\u001b[1;33m         \u001b[1;32mreturn\u001b[0m \u001b[0mlen\u001b[0m\u001b[1;33m(\u001b[0m\u001b[0mself\u001b[0m\u001b[1;33m.\u001b[0m\u001b[0mfilenames\u001b[0m\u001b[1;33m)\u001b[0m\u001b[1;33m\u001b[0m\u001b[1;33m\u001b[0m\u001b[0m\n\u001b[0m\u001b[0;32m     17\u001b[0m \u001b[1;33m\u001b[0m\u001b[0m\n\u001b[0;32m     18\u001b[0m     \u001b[1;32mdef\u001b[0m \u001b[0m__getitem\u001b[0m\u001b[1;33m(\u001b[0m\u001b[0mself\u001b[0m\u001b[1;33m,\u001b[0m \u001b[0midx\u001b[0m\u001b[1;33m)\u001b[0m\u001b[1;33m:\u001b[0m\u001b[1;33m\u001b[0m\u001b[1;33m\u001b[0m\u001b[0m\n",
      "\u001b[1;32m~\\miniconda3\\envs\\cv-nd\\lib\\site-packages\\torch\\utils\\data\\dataset.py\u001b[0m in \u001b[0;36m__getattr__\u001b[1;34m(self, attribute_name)\u001b[0m\n\u001b[0;32m     81\u001b[0m             \u001b[1;32mreturn\u001b[0m \u001b[0mfunction\u001b[0m\u001b[1;33m\u001b[0m\u001b[1;33m\u001b[0m\u001b[0m\n\u001b[0;32m     82\u001b[0m         \u001b[1;32melse\u001b[0m\u001b[1;33m:\u001b[0m\u001b[1;33m\u001b[0m\u001b[1;33m\u001b[0m\u001b[0m\n\u001b[1;32m---> 83\u001b[1;33m             \u001b[1;32mraise\u001b[0m \u001b[0mAttributeError\u001b[0m\u001b[1;33m\u001b[0m\u001b[1;33m\u001b[0m\u001b[0m\n\u001b[0m\u001b[0;32m     84\u001b[0m \u001b[1;33m\u001b[0m\u001b[0m\n\u001b[0;32m     85\u001b[0m     \u001b[1;33m@\u001b[0m\u001b[0mclassmethod\u001b[0m\u001b[1;33m\u001b[0m\u001b[1;33m\u001b[0m\u001b[0m\n",
      "\u001b[1;31mAttributeError\u001b[0m: "
     ]
    }
   ],
   "source": [
    "len(signs)"
   ]
  },
  {
   "cell_type": "code",
   "execution_count": null,
   "id": "b8efe65a-351b-4756-a3c7-f5d11b016d9e",
   "metadata": {},
   "outputs": [],
   "source": []
  }
 ],
 "metadata": {
  "kernelspec": {
   "display_name": "Python cHido (pytorch)",
   "language": "python",
   "name": "pytorch"
  },
  "language_info": {
   "codemirror_mode": {
    "name": "ipython",
    "version": 3
   },
   "file_extension": ".py",
   "mimetype": "text/x-python",
   "name": "python",
   "nbconvert_exporter": "python",
   "pygments_lexer": "ipython3",
   "version": "3.6.13"
  }
 },
 "nbformat": 4,
 "nbformat_minor": 5
}
