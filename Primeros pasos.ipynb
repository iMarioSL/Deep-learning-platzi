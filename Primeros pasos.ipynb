{
 "cells": [
  {
   "cell_type": "markdown",
   "id": "4c5127ba-e79e-4a1d-8e31-4a30cb754d91",
   "metadata": {},
   "source": [
    "# Aqui van las notas."
   ]
  },
  {
   "cell_type": "markdown",
   "id": "4149faaa-b8c6-475d-adf4-7426e45a457e",
   "metadata": {},
   "source": [
    "## Tensores"
   ]
  },
  {
   "cell_type": "code",
   "execution_count": 2,
   "id": "384cb297-e634-4d8c-bc96-ab41baa44edb",
   "metadata": {},
   "outputs": [],
   "source": [
    "import torch"
   ]
  },
  {
   "cell_type": "markdown",
   "id": "6c3284e6-f6fc-4dd9-b27a-9cc5ca5518ac",
   "metadata": {},
   "source": [
    "Creando un tensor."
   ]
  },
  {
   "cell_type": "code",
   "execution_count": 3,
   "id": "e0ed7cf4-9b1c-448e-93af-6ed0d6ae65c2",
   "metadata": {},
   "outputs": [],
   "source": [
    "A = torch.rand((8, 3, 5))"
   ]
  },
  {
   "cell_type": "code",
   "execution_count": 7,
   "id": "6bf18c9f-ad0d-4ab9-9efc-abd36db452e1",
   "metadata": {},
   "outputs": [
    {
     "data": {
      "text/plain": [
       "torch.Size([8, 3, 5])"
      ]
     },
     "execution_count": 7,
     "metadata": {},
     "output_type": "execute_result"
    }
   ],
   "source": [
    "A.size()"
   ]
  },
  {
   "cell_type": "code",
   "execution_count": 8,
   "id": "505dc00f-c4ee-49d3-ab86-b639c8f223cb",
   "metadata": {},
   "outputs": [
    {
     "data": {
      "text/plain": [
       "True"
      ]
     },
     "execution_count": 8,
     "metadata": {},
     "output_type": "execute_result"
    }
   ],
   "source": [
    "A.size() == (8, 3, 5)"
   ]
  },
  {
   "cell_type": "markdown",
   "id": "9672bac8-42ad-48b5-b72c-68bfa34f6658",
   "metadata": {},
   "source": [
    "Acceder a los elementos del tensor"
   ]
  },
  {
   "cell_type": "code",
   "execution_count": 17,
   "id": "911bfd33-92e8-4770-9b16-66ce928b2937",
   "metadata": {},
   "outputs": [
    {
     "name": "stdout",
     "output_type": "stream",
     "text": [
      "tensor(0.8644)\n",
      "tensor(0.8644)\n",
      "tensor([0.8644, 0.5202, 0.8190])\n",
      "tensor([0.8644, 0.9258, 0.5758, 0.3023, 0.8031, 0.4529, 0.9669, 0.1442])\n"
     ]
    }
   ],
   "source": [
    "print(A[0][0][0]) # De la manera mas fea\n",
    "\n",
    "print(A[0, 0, 0]) # Mas simple\n",
    "\n",
    "print(A[0, :, 0]) # Slicing\n",
    "\n",
    "print(A[:, 0, 0]) # Slicing"
   ]
  },
  {
   "cell_type": "code",
   "execution_count": 18,
   "id": "5a15ef9f-0767-4d41-ad0c-4c41b84846e8",
   "metadata": {},
   "outputs": [],
   "source": [
    "C = torch.zeros((5, 5))"
   ]
  },
  {
   "cell_type": "markdown",
   "id": "b52283f4-124f-4433-99d4-cd840f099baf",
   "metadata": {},
   "source": [
    "Vamos a ver su tipo de datos"
   ]
  },
  {
   "cell_type": "code",
   "execution_count": 22,
   "id": "0a7740b9-c4f3-40d4-b6da-0751dfff3769",
   "metadata": {},
   "outputs": [
    {
     "data": {
      "text/plain": [
       "torch.float32"
      ]
     },
     "execution_count": 22,
     "metadata": {},
     "output_type": "execute_result"
    }
   ],
   "source": [
    "C.dtype"
   ]
  },
  {
   "cell_type": "code",
   "execution_count": 23,
   "id": "ed9fa1c6-1389-4119-9fad-d44f33494af4",
   "metadata": {},
   "outputs": [
    {
     "data": {
      "text/plain": [
       "tensor([[0, 0, 1, 0, 0],\n",
       "        [0, 1, 1, 0, 0],\n",
       "        [0, 1, 0, 0, 1],\n",
       "        [0, 1, 1, 0, 1],\n",
       "        [1, 1, 0, 1, 0]])"
      ]
     },
     "execution_count": 23,
     "metadata": {},
     "output_type": "execute_result"
    }
   ],
   "source": [
    "D = torch.randint(2, (5, 5))\n",
    "D"
   ]
  },
  {
   "cell_type": "code",
   "execution_count": 24,
   "id": "60f64b11-80e6-4f5e-9c46-6fbaf44f1eb6",
   "metadata": {},
   "outputs": [
    {
     "data": {
      "text/plain": [
       "torch.int64"
      ]
     },
     "execution_count": 24,
     "metadata": {},
     "output_type": "execute_result"
    }
   ],
   "source": [
    "D.dtype"
   ]
  },
  {
   "cell_type": "code",
   "execution_count": 27,
   "id": "3226da55-c801-4476-8c04-5bc67e71c950",
   "metadata": {},
   "outputs": [
    {
     "data": {
      "text/plain": [
       "tensor([[0., 0., 1., 0., 0.],\n",
       "        [0., 1., 1., 0., 0.],\n",
       "        [0., 1., 0., 0., 1.],\n",
       "        [0., 1., 1., 0., 1.],\n",
       "        [1., 1., 0., 1., 0.]])"
      ]
     },
     "execution_count": 27,
     "metadata": {},
     "output_type": "execute_result"
    }
   ],
   "source": [
    "C + D # Suma de tensores sin importar tipo"
   ]
  },
  {
   "cell_type": "code",
   "execution_count": 28,
   "id": "a63d157b-684b-4c51-b18e-236561647a53",
   "metadata": {},
   "outputs": [],
   "source": [
    "E = torch.ones((5, 5))"
   ]
  },
  {
   "cell_type": "code",
   "execution_count": 29,
   "id": "6b16c7ed-4b3f-4b9c-8850-d0c5b79d4643",
   "metadata": {},
   "outputs": [
    {
     "data": {
      "text/plain": [
       "tensor([[1., 1., 1., 1., 1.],\n",
       "        [1., 1., 1., 1., 1.],\n",
       "        [1., 1., 1., 1., 1.],\n",
       "        [1., 1., 1., 1., 1.],\n",
       "        [1., 1., 1., 1., 1.]])"
      ]
     },
     "execution_count": 29,
     "metadata": {},
     "output_type": "execute_result"
    }
   ],
   "source": [
    "E"
   ]
  },
  {
   "cell_type": "code",
   "execution_count": 30,
   "id": "072d2d5f-f158-4d39-8aec-50800f86c9f3",
   "metadata": {},
   "outputs": [
    {
     "data": {
      "text/plain": [
       "tensor([[1., 1., 2., 1., 1.],\n",
       "        [1., 2., 2., 1., 1.],\n",
       "        [1., 2., 1., 1., 2.],\n",
       "        [1., 2., 2., 1., 2.],\n",
       "        [2., 2., 1., 2., 1.]])"
      ]
     },
     "execution_count": 30,
     "metadata": {},
     "output_type": "execute_result"
    }
   ],
   "source": [
    "C + D + E"
   ]
  },
  {
   "cell_type": "markdown",
   "id": "5669b606-d0b5-4208-88e5-1fad9815f3e9",
   "metadata": {},
   "source": [
    "Como pasar tensores en GPU"
   ]
  },
  {
   "cell_type": "code",
   "execution_count": 32,
   "id": "b50c365c-20fe-4c6d-a6bf-1505d55e3dfe",
   "metadata": {},
   "outputs": [
    {
     "data": {
      "text/plain": [
       "device(type='cpu')"
      ]
     },
     "execution_count": 32,
     "metadata": {},
     "output_type": "execute_result"
    }
   ],
   "source": [
    "C.device # checamos en donde esta el tensor"
   ]
  },
  {
   "cell_type": "markdown",
   "id": "9b3fba3a-9730-4c84-8914-7472d6c3b6a0",
   "metadata": {},
   "source": [
    "Para revisar si tenemos la GPU disponible"
   ]
  },
  {
   "cell_type": "code",
   "execution_count": 34,
   "id": "ccee2bb6-c095-4cd7-b819-3cc37cadde25",
   "metadata": {},
   "outputs": [
    {
     "data": {
      "text/plain": [
       "True"
      ]
     },
     "execution_count": 34,
     "metadata": {},
     "output_type": "execute_result"
    }
   ],
   "source": [
    "torch.cuda.is_available()"
   ]
  },
  {
   "cell_type": "markdown",
   "id": "ea65e0fd-60af-4cb8-87fe-b0e35fe3f968",
   "metadata": {},
   "source": [
    "Para definir el dispositivo a utilizar, vamos a hacer lo siguiente."
   ]
  },
  {
   "cell_type": "code",
   "execution_count": 37,
   "id": "67001fe8-4cc0-4fa1-9e44-4bc45528a9d5",
   "metadata": {},
   "outputs": [],
   "source": [
    "# Vamos a trabajar con la GPU siempre que este disponible\n",
    "# de lo contrario usamos la CPU\n",
    "device = torch.device(\"cuda\" if torch.cuda.is_available() else \"cpu\")"
   ]
  },
  {
   "cell_type": "code",
   "execution_count": 38,
   "id": "86856fa1-c88f-4bc5-aa5a-663bcd9ecf83",
   "metadata": {},
   "outputs": [
    {
     "data": {
      "text/plain": [
       "device(type='cuda')"
      ]
     },
     "execution_count": 38,
     "metadata": {},
     "output_type": "execute_result"
    }
   ],
   "source": [
    "device"
   ]
  },
  {
   "cell_type": "code",
   "execution_count": 40,
   "id": "b593177f-b67d-49d0-9f1d-94233bda2c39",
   "metadata": {},
   "outputs": [],
   "source": [
    "x = torch.randn(3, 5) # cpu\n",
    "# gpu\n",
    "y = torch.ones_like(x, device=device) # Toma la dimension del argumento y lo rellena de 1's"
   ]
  },
  {
   "cell_type": "markdown",
   "id": "92884bb5-3151-42bf-b5ae-11d83716d8eb",
   "metadata": {},
   "source": [
    "Para operar $x$ y $y$ tenemos que tener los tensores en el mismo device,\n",
    "por lo que vamos a pasar a $x$ a la GPU"
   ]
  },
  {
   "cell_type": "code",
   "execution_count": 42,
   "id": "364ef973-4d9e-4b01-8789-c5c8a0c94458",
   "metadata": {},
   "outputs": [],
   "source": [
    "x = x.to(device) # cpu -> gpu"
   ]
  },
  {
   "cell_type": "code",
   "execution_count": 43,
   "id": "2cd4228a-a589-4251-9455-cd4b3d2899a7",
   "metadata": {},
   "outputs": [],
   "source": [
    "z = x + y"
   ]
  },
  {
   "cell_type": "code",
   "execution_count": 46,
   "id": "cbc0b7d2-f72a-4a2e-acee-2243a8d33ca8",
   "metadata": {},
   "outputs": [
    {
     "name": "stdout",
     "output_type": "stream",
     "text": [
      "tensor([[ 0.6630,  2.2844,  2.6204,  0.5576, -0.7153],\n",
      "        [ 1.0875,  3.2496,  0.5459,  2.3315, -0.0637],\n",
      "        [ 0.7106,  1.3802,  1.2068,  1.1645,  0.5064]], device='cuda:0')\n"
     ]
    }
   ],
   "source": [
    "print(z) # Aqui tenemos el z en GPU"
   ]
  },
  {
   "cell_type": "code",
   "execution_count": 47,
   "id": "26c409a7-0b7d-4f93-abb9-33cadab1bbb6",
   "metadata": {},
   "outputs": [
    {
     "name": "stdout",
     "output_type": "stream",
     "text": [
      "tensor([[ 0.6630,  2.2844,  2.6204,  0.5576, -0.7153],\n",
      "        [ 1.0875,  3.2496,  0.5459,  2.3315, -0.0637],\n",
      "        [ 0.7106,  1.3802,  1.2068,  1.1645,  0.5064]])\n"
     ]
    }
   ],
   "source": [
    "print(z.cpu()) # Aqui vemos z desde la CPU"
   ]
  },
  {
   "cell_type": "markdown",
   "id": "7bfdec2c-2f9c-4de5-840e-e92273f53228",
   "metadata": {},
   "source": [
    "## Vamos a importar los datasets"
   ]
  },
  {
   "cell_type": "code",
   "execution_count": 48,
   "id": "ea5b4dab-8433-4145-b2fb-8f06017cbca5",
   "metadata": {},
   "outputs": [],
   "source": [
    "from torchvision import datasets"
   ]
  },
  {
   "cell_type": "code",
   "execution_count": 49,
   "id": "5b008071-d603-41d9-85bd-7488e725901c",
   "metadata": {},
   "outputs": [
    {
     "data": {
      "text/plain": [
       "['CIFAR10',\n",
       " 'CIFAR100',\n",
       " 'Caltech101',\n",
       " 'Caltech256',\n",
       " 'CelebA',\n",
       " 'Cityscapes',\n",
       " 'CocoCaptions',\n",
       " 'CocoDetection',\n",
       " 'DatasetFolder',\n",
       " 'EMNIST',\n",
       " 'FakeData',\n",
       " 'FashionMNIST',\n",
       " 'Flickr30k',\n",
       " 'Flickr8k',\n",
       " 'HMDB51',\n",
       " 'INaturalist',\n",
       " 'ImageFolder',\n",
       " 'ImageNet',\n",
       " 'KMNIST',\n",
       " 'Kinetics',\n",
       " 'Kinetics400',\n",
       " 'Kitti',\n",
       " 'LFWPairs',\n",
       " 'LFWPeople',\n",
       " 'LSUN',\n",
       " 'LSUNClass',\n",
       " 'MNIST',\n",
       " 'Omniglot',\n",
       " 'PhotoTour',\n",
       " 'Places365',\n",
       " 'QMNIST',\n",
       " 'SBDataset',\n",
       " 'SBU',\n",
       " 'SEMEION',\n",
       " 'STL10',\n",
       " 'SVHN',\n",
       " 'UCF101',\n",
       " 'USPS',\n",
       " 'VOCDetection',\n",
       " 'VOCSegmentation',\n",
       " 'VisionDataset',\n",
       " 'WIDERFace',\n",
       " '__all__',\n",
       " '__builtins__',\n",
       " '__cached__',\n",
       " '__doc__',\n",
       " '__file__',\n",
       " '__loader__',\n",
       " '__name__',\n",
       " '__package__',\n",
       " '__path__',\n",
       " '__spec__',\n",
       " 'caltech',\n",
       " 'celeba',\n",
       " 'cifar',\n",
       " 'cityscapes',\n",
       " 'coco',\n",
       " 'fakedata',\n",
       " 'flickr',\n",
       " 'folder',\n",
       " 'hmdb51',\n",
       " 'imagenet',\n",
       " 'inaturalist',\n",
       " 'kinetics',\n",
       " 'kitti',\n",
       " 'lfw',\n",
       " 'lsun',\n",
       " 'mnist',\n",
       " 'omniglot',\n",
       " 'phototour',\n",
       " 'places365',\n",
       " 'sbd',\n",
       " 'sbu',\n",
       " 'semeion',\n",
       " 'stl10',\n",
       " 'svhn',\n",
       " 'ucf101',\n",
       " 'usps',\n",
       " 'utils',\n",
       " 'video_utils',\n",
       " 'vision',\n",
       " 'voc',\n",
       " 'widerface']"
      ]
     },
     "execution_count": 49,
     "metadata": {},
     "output_type": "execute_result"
    }
   ],
   "source": [
    "dir(datasets)"
   ]
  },
  {
   "cell_type": "markdown",
   "id": "e7a01761-007a-4cbe-8706-023d7b223d64",
   "metadata": {},
   "source": [
    "### Para instanciar un DS."
   ]
  },
  {
   "cell_type": "code",
   "execution_count": 52,
   "id": "8f93c22a-ad38-45eb-8eaf-f3318421c329",
   "metadata": {},
   "outputs": [
    {
     "name": "stdout",
     "output_type": "stream",
     "text": [
      "Downloading https://www.cs.toronto.edu/~kriz/cifar-10-python.tar.gz to /dl-pytorch/datasets/cifar-10-python.tar.gz\n"
     ]
    },
    {
     "name": "stderr",
     "output_type": "stream",
     "text": [
      "97.9%"
     ]
    }
   ],
   "source": [
    "cifar = datasets.CIFAR10('/dl-pytorch/datasets/', download=True)"
   ]
  },
  {
   "cell_type": "code",
   "execution_count": 53,
   "id": "94c86734-56a0-4ded-ab09-7227bc1b5776",
   "metadata": {},
   "outputs": [
    {
     "data": {
      "text/plain": [
       "50000"
      ]
     },
     "execution_count": 53,
     "metadata": {},
     "output_type": "execute_result"
    }
   ],
   "source": [
    "len(cifar)"
   ]
  },
  {
   "cell_type": "markdown",
   "id": "27034270-68a0-4b02-84cb-c7981c8a52d6",
   "metadata": {},
   "source": [
    "Vamos a pasar el DS a un tensor."
   ]
  },
  {
   "cell_type": "code",
   "execution_count": 54,
   "id": "05f7a2f4-90de-4ee8-a8d8-869f781d0e3d",
   "metadata": {},
   "outputs": [],
   "source": [
    "data = torch.Tensor(cifar.data)"
   ]
  },
  {
   "cell_type": "code",
   "execution_count": 55,
   "id": "c0952865-bbfc-4a9c-8c9d-27de56a98842",
   "metadata": {},
   "outputs": [
    {
     "data": {
      "text/plain": [
       "torch.Size([50000, 32, 32, 3])"
      ]
     },
     "execution_count": 55,
     "metadata": {},
     "output_type": "execute_result"
    }
   ],
   "source": [
    "data.size()"
   ]
  },
  {
   "cell_type": "markdown",
   "id": "5ed5a662-c6e1-4de0-8412-11dc6ec06f46",
   "metadata": {},
   "source": [
    "Los datasets de imagenes son de 4 dimensiones.\n",
    "- Primer dimension, ahi se alamacenan la cantidad de imagenes\n",
    "- La dimension x\n",
    "- La dimension y\n",
    "- El canal de imagenes, aqui es RGB"
   ]
  },
  {
   "cell_type": "markdown",
   "id": "afd151ca-756e-430b-8743-bc6baec9654b",
   "metadata": {},
   "source": [
    "Vamos a ver las imagenes"
   ]
  },
  {
   "cell_type": "code",
   "execution_count": 58,
   "id": "6656432e-32d1-4afa-afd2-9ddc645459d1",
   "metadata": {},
   "outputs": [],
   "source": [
    "import matplotlib.pyplot as plt\n",
    "%matplotlib inline"
   ]
  },
  {
   "cell_type": "code",
   "execution_count": 78,
   "id": "40a72e7e-fa85-42cc-9e9f-12064f3f6a45",
   "metadata": {},
   "outputs": [
    {
     "data": {
      "text/plain": [
       "<matplotlib.image.AxesImage at 0x2a3b61a61d0>"
      ]
     },
     "execution_count": 78,
     "metadata": {},
     "output_type": "execute_result"
    },
    {
     "data": {
      "image/png": "[encoded data removed]",
      "text/plain": [
       "<matplotlib.figure.Figure at 0x2a3b611c5c0>"
      ]
     },
     "metadata": {
      "needs_background": "light"
     },
     "output_type": "display_data"
    }
   ],
   "source": [
    "plt.imshow(data[2, :, :, :])"
   ]
  },
  {
   "cell_type": "markdown",
   "id": "bf9f8da2-1457-48a6-942e-20c526d47f08",
   "metadata": {},
   "source": [
    "---"
   ]
  },
  {
   "cell_type": "markdown",
   "id": "cb918f96-6718-423e-a850-9c863e717b47",
   "metadata": {},
   "source": [
    "## Capas de una red neuronal en Pytorch"
   ]
  },
  {
   "cell_type": "code",
   "execution_count": 82,
   "id": "c81d2775-f2bd-42e2-9afd-6f20db52f520",
   "metadata": {},
   "outputs": [],
   "source": [
    "import torch\n",
    "import torch.nn as nn # Red Neuronal\n",
    "\n",
    "# Transformacion lineal\n",
    "linear = nn.Linear(in_features=4096, out_features=10) # Aqyu en input solo recibimos tensores de dim 1\n",
    "\n",
    "# Convolucion\n",
    "conv = nn.Conv2d(in_channels=3, out_channels=9, kernel_size=3, stride=1, padding=1)\n",
    "# Esta convolucion modifica los canales pero no el tamanio de la imagen\n",
    "\n",
    "relu = nn.ReLU(False)"
   ]
  },
  {
   "cell_type": "code",
   "execution_count": 84,
   "id": "a6783237-8763-43ff-af96-d8b8f235ee98",
   "metadata": {},
   "outputs": [
    {
     "data": {
      "text/plain": [
       "torch.Size([10])"
      ]
     },
     "execution_count": 84,
     "metadata": {},
     "output_type": "execute_result"
    }
   ],
   "source": [
    "x = torch.randn(4096)\n",
    "y = linear(x)\n",
    "y.size()"
   ]
  },
  {
   "cell_type": "code",
   "execution_count": 89,
   "id": "494a617b-ecfd-436f-8c6a-45b6ce06d601",
   "metadata": {},
   "outputs": [
    {
     "name": "stdout",
     "output_type": "stream",
     "text": [
      "tensor([ 3.0906, -1.4086, -1.4267,  ...,  0.1467,  1.2375, -1.1456])\n",
      "tensor([ 0.0935,  0.8819,  1.3535,  0.8741,  0.3464,  0.1940,  0.0453, -0.7821,\n",
      "        -0.2806,  0.5633], grad_fn=<AddBackward0>)\n"
     ]
    }
   ],
   "source": [
    "print(x)\n",
    "print(y)"
   ]
  },
  {
   "cell_type": "code",
   "execution_count": 90,
   "id": "61c5fb59-cbe7-4544-a028-aa30a85a2adf",
   "metadata": {},
   "outputs": [],
   "source": [
    "# torch.randn(una_imagen, tres_canales, tamanio_x, tamanio_y)\n",
    "x = torch.randn(1, 3, 7, 7)\n",
    "y = conv(x)\n",
    "z = relu(x)"
   ]
  },
  {
   "cell_type": "code",
   "execution_count": 91,
   "id": "c0122542-f6a3-40cc-84ee-77bee3186d2f",
   "metadata": {},
   "outputs": [
    {
     "data": {
      "text/plain": [
       "torch.Size([1, 9, 7, 7])"
      ]
     },
     "execution_count": 91,
     "metadata": {},
     "output_type": "execute_result"
    }
   ],
   "source": [
    "y.size()"
   ]
  },
  {
   "cell_type": "code",
   "execution_count": 92,
   "id": "4ca95323-b801-425c-ad2d-006d1ee64c88",
   "metadata": {},
   "outputs": [
    {
     "data": {
      "text/plain": [
       "torch.Size([1, 3, 7, 7])"
      ]
     },
     "execution_count": 92,
     "metadata": {},
     "output_type": "execute_result"
    }
   ],
   "source": [
    "z.size()"
   ]
  },
  {
   "cell_type": "code",
   "execution_count": 99,
   "id": "b8ac14db-6760-40c4-9349-62e4c39e92a6",
   "metadata": {},
   "outputs": [
    {
     "name": "stdout",
     "output_type": "stream",
     "text": [
      "weight\n",
      "torch.Size([10, 4096])\n",
      "bias\n",
      "torch.Size([10])\n"
     ]
    }
   ],
   "source": [
    "for name, p in linear.named_parameters():\n",
    "    print(name)\n",
    "    print(p.size())"
   ]
  },
  {
   "cell_type": "markdown",
   "id": "5ab992f8-94b1-4d32-b45b-93cb697758d5",
   "metadata": {},
   "source": [
    "## Como crear una red neuronal en Pytorch."
   ]
  },
  {
   "cell_type": "code",
   "execution_count": null,
   "id": "c4267500-a4d4-4694-b622-7691966222b7",
   "metadata": {},
   "outputs": [],
   "source": []
  }
 ],
 "metadata": {
  "kernelspec": {
   "display_name": "Python cHido (pytorch)",
   "language": "python",
   "name": "pytorch"
  },
  "language_info": {
   "codemirror_mode": {
    "name": "ipython",
    "version": 3
   },
   "file_extension": ".py",
   "mimetype": "text/x-python",
   "name": "python",
   "nbconvert_exporter": "python",
   "pygments_lexer": "ipython3",
   "version": "3.6.13"
  }
 },
 "nbformat": 4,
 "nbformat_minor": 5
}
