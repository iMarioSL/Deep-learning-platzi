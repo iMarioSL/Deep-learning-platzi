{
 "cells": [
  {
   "cell_type": "markdown",
   "id": "4c5127ba-e79e-4a1d-8e31-4a30cb754d91",
   "metadata": {},
   "source": [
    "# Aqui van las notas."
   ]
  },
  {
   "cell_type": "code",
   "execution_count": null,
   "id": "384cb297-e634-4d8c-bc96-ab41baa44edb",
   "metadata": {},
   "outputs": [],
   "source": []
  }
 ],
 "metadata": {
  "kernelspec": {
   "display_name": "Python cHido (pytorch)",
   "language": "python",
   "name": "pytorch"
  },
  "language_info": {
   "codemirror_mode": {
    "name": "ipython",
    "version": 3
   },
   "file_extension": ".py",
   "mimetype": "text/x-python",
   "name": "python",
   "nbconvert_exporter": "python",
   "pygments_lexer": "ipython3",
   "version": "3.6.13"
  }
 },
 "nbformat": 4,
 "nbformat_minor": 5
}
