{
 "cells": [
  {
   "cell_type": "markdown",
   "id": "7ad90fa1-f729-413c-8f74-415e150a73be",
   "metadata": {},
   "source": [
    "## Como crear una red neuronal en Pytorch"
   ]
  },
  {
   "cell_type": "code",
   "execution_count": 1,
   "id": "a0643592-dff7-41c4-8f13-1ab478218e8a",
   "metadata": {},
   "outputs": [],
   "source": [
    "import torch\n",
    "import torch.nn as nn\n",
    "import torch.nn.functional as F # capas sin parametros"
   ]
  },
  {
   "cell_type": "code",
   "execution_count": 2,
   "id": "04ecf7dc-df78-46d4-a117-d1e3a5d83f04",
   "metadata": {},
   "outputs": [
    {
     "data": {
      "text/plain": [
       "device(type='cuda')"
      ]
     },
     "execution_count": 2,
     "metadata": {},
     "output_type": "execute_result"
    }
   ],
   "source": [
    "device = torch.device(\"cuda\" if torch.cuda.is_available() else \"cpu\")\n",
    "device"
   ]
  },
  {
   "cell_type": "code",
   "execution_count": 8,
   "id": "1855d54b-833d-401e-978d-a05a0de55450",
   "metadata": {},
   "outputs": [],
   "source": [
    "class Net(nn.Module):\n",
    "    \n",
    "    def __init__(self, num_channels):\n",
    "        super(Net, self).__init__()      \n",
    "        self.num_channels = num_channels\n",
    "        \n",
    "        # Definimos las capas conv\n",
    "        self.conv1 = nn.Conv2d(3, self.num_channels, 3, stride=1, padding=1)\n",
    "        self.conv2 = nn.Conv2d(self.num_channels, self.num_channels*2, 3, stride=1, padding=1)\n",
    "        self.conv3 = nn.Conv2d(self.num_channels*2, self.num_channels*4, 3, stride=1, padding=1)\n",
    "        \n",
    "        # Definimos las capas Fully-Connected\n",
    "        self.fc1 = nn.Linear(self.num_channels*4*8*8, self.num_channels*4)\n",
    "        self.fc2 = nn.Linear(self.num_channels*4, 6)\n",
    "        \n",
    "        def forward(self, x):\n",
    "            # Empieza 3x64x64\n",
    "            x = self.conv1(x) # -> num_channels x 64 x 64\n",
    "            x = F.relu(F.max_pool2d(x, 2)) # -> num_channels x 32 x 32\n",
    "            x = self.conv2(x) # -> num_channels*2 x 32 x 32\n",
    "            x = F.relu(F.max_pool2d(x, 2)) # -> num_channels*2 x 16 x 16\n",
    "            x = self.conv3(x) # -> num_channels*4 x 16 x 16\n",
    "            x = F.relu(F.max_pool2d(x, 2)) # -> num_channels*4 x 8 x 8\n",
    "            \n",
    "            # Flatten\n",
    "            x = x.view(-1, self.num_channels*4*8*8)\n",
    "            \n",
    "            # Fully Connected\n",
    "            x = self.fc1(x)\n",
    "            x = F.relu(x)\n",
    "            x = self.fc2(x)\n",
    "            \n",
    "            # log SoftMax\n",
    "            x = F.log_softmax(x, dim=1)\n",
    "            \n",
    "            return x"
   ]
  },
  {
   "cell_type": "markdown",
   "id": "5f795c10-b5cf-43f9-ae5e-d27f6cf8d03d",
   "metadata": {},
   "source": [
    "## Carga de datos"
   ]
  },
  {
   "cell_type": "code",
   "execution_count": 9,
   "id": "9e6f029d-d00c-4c63-ae7c-4a7519dc5c72",
   "metadata": {},
   "outputs": [],
   "source": [
    "import sys\n",
    "sys.path.append('/dl-pytorch/datasets/')"
   ]
  },
  {
   "cell_type": "code",
   "execution_count": 15,
   "id": "983faed4-d07f-4b97-b230-3c9eb15ddd6d",
   "metadata": {},
   "outputs": [],
   "source": [
    "import os\n",
    "from PIL import Image\n",
    "from torch.utils.data import Dataset, DataLoader\n",
    "\n",
    "class SIGNSDataset(Dataset):\n",
    "    def __init__(self, base_dir, split='train', transform=None):\n",
    "        path = os.path.join(base_dir, \"{}_signs\".format(split))\n",
    "        files = os.listdir(path)\n",
    "        \n",
    "        self.filesnames = [os.path.join(path, f) for f in files if f.endswith(\".jpg\")]\n",
    "        \n",
    "        self.targets = [int(f[0]) for f in files]\n",
    "        self.transform = transform\n",
    "        \n",
    "    def __len__(self):\n",
    "        return len(self.filesnames)\n",
    "    \n",
    "    def __getitem__(self, idx):\n",
    "        image = Image.open(self.filesnames[idx])\n",
    "        if self.transform:\n",
    "            image = self.transform(image)\n",
    "        return image, self.targets[idx]"
   ]
  },
  {
   "cell_type": "code",
   "execution_count": 16,
   "id": "cf43d523-c4fd-4a0e-a2d7-48c4db44a15e",
   "metadata": {},
   "outputs": [],
   "source": [
    "signs = SIGNSDataset(\"C:\\\\Users\\\\masan\\\\Desktop\\\\Cursos Platzi\\\\Deep learning con Pytorch\\\\dl-pytorch\\\\datasets\", split=\"train\")"
   ]
  },
  {
   "cell_type": "code",
   "execution_count": 17,
   "id": "027330b0-37b3-462c-949a-771fb4b36315",
   "metadata": {},
   "outputs": [
    {
     "data": {
      "text/plain": [
       "864"
      ]
     },
     "execution_count": 17,
     "metadata": {},
     "output_type": "execute_result"
    }
   ],
   "source": [
    "len(signs)"
   ]
  },
  {
   "cell_type": "code",
   "execution_count": 24,
   "id": "b8efe65a-351b-4756-a3c7-f5d11b016d9e",
   "metadata": {},
   "outputs": [
    {
     "data": {
      "image/png": "[encoded data removed]",
      "text/plain": [
       "<PIL.JpegImagePlugin.JpegImageFile image mode=RGB size=64x64 at 0x1E939ABB7F0>"
      ]
     },
     "execution_count": 24,
     "metadata": {},
     "output_type": "execute_result"
    }
   ],
   "source": [
    "signs[0][0]"
   ]
  },
  {
   "cell_type": "markdown",
   "id": "aa1c6875-09f9-4f18-96c8-b1ff1b693c0e",
   "metadata": {},
   "source": [
    "---"
   ]
  },
  {
   "cell_type": "markdown",
   "id": "89c05aee-91b5-4e6e-b322-716f9f38bc27",
   "metadata": {},
   "source": [
    "## Como entrenar la red."
   ]
  },
  {
   "cell_type": "markdown",
   "id": "93b9041a-20c6-49f3-8b5b-34b714113719",
   "metadata": {},
   "source": [
    "### Preprocesamiento de imagenes"
   ]
  },
  {
   "cell_type": "code",
   "execution_count": 25,
   "id": "c6b50b97-f485-4114-a4de-6d2ac00fcc4f",
   "metadata": {},
   "outputs": [],
   "source": [
    "import torchvision.transforms as transforms"
   ]
  },
  {
   "cell_type": "code",
   "execution_count": 31,
   "id": "c4218087-def3-4367-b137-c18e0794c86b",
   "metadata": {},
   "outputs": [],
   "source": [
    "# Vamos a convertir nuestro DS en un tensor.\n",
    "trainset = signs = SIGNSDataset(\"C:\\\\Users\\\\masan\\\\Desktop\\\\Cursos Platzi\\\\Deep learning con Pytorch\\\\dl-pytorch\\\\datasets\",\n",
    "                                split=\"train\", transform = transforms.ToTensor())"
   ]
  },
  {
   "cell_type": "code",
   "execution_count": 35,
   "id": "3197e9ed-aec1-46d6-85a1-62898b1e0a0e",
   "metadata": {},
   "outputs": [],
   "source": [
    "# El dataloader nos sirve para  cargar las imagenes por lotes\n",
    "# de maera convencional se establece que el batcjh_size = 32\n",
    "dataloader = DataLoader(trainset, batch_size=32)"
   ]
  },
  {
   "cell_type": "code",
   "execution_count": 48,
   "id": "9a8b7404-7a82-47af-82a2-7f9b2b534f0c",
   "metadata": {},
   "outputs": [
    {
     "ename": "ModuleNotFoundError",
     "evalue": "No module named 'skimage'",
     "output_type": "error",
     "traceback": [
      "\u001b[1;31m---------------------------------------------------------------------------\u001b[0m",
      "\u001b[1;31mModuleNotFoundError\u001b[0m                       Traceback (most recent call last)",
      "\u001b[1;32m<ipython-input-48-e2c10d3bde86>\u001b[0m in \u001b[0;36m<module>\u001b[1;34m\u001b[0m\n\u001b[1;32m----> 1\u001b[1;33m \u001b[1;32mimport\u001b[0m \u001b[0mskimage\u001b[0m\u001b[1;33m.\u001b[0m\u001b[0mio\u001b[0m \u001b[1;32mas\u001b[0m \u001b[0mio\u001b[0m\u001b[1;33m\u001b[0m\u001b[1;33m\u001b[0m\u001b[0m\n\u001b[0m",
      "\u001b[1;31mModuleNotFoundError\u001b[0m: No module named 'skimage'"
     ]
    }
   ],
   "source": [
    "import skimage.io as io"
   ]
  },
  {
   "cell_type": "code",
   "execution_count": 44,
   "id": "429827e9-5028-4f83-8919-5cb77030d01f",
   "metadata": {},
   "outputs": [
    {
     "ename": "ModuleNotFoundError",
     "evalue": "No module named 'skimage'",
     "output_type": "error",
     "traceback": [
      "\u001b[1;31m---------------------------------------------------------------------------\u001b[0m",
      "\u001b[1;31mModuleNotFoundError\u001b[0m                       Traceback (most recent call last)",
      "\u001b[1;32m<ipython-input-44-1b60bc12127e>\u001b[0m in \u001b[0;36m<module>\u001b[1;34m\u001b[0m\n\u001b[1;32m----> 1\u001b[1;33m \u001b[1;32mfrom\u001b[0m \u001b[0mplot_helpers\u001b[0m \u001b[1;32mimport\u001b[0m \u001b[0mimshow\u001b[0m\u001b[1;33m\u001b[0m\u001b[1;33m\u001b[0m\u001b[0m\n\u001b[0m",
      "\u001b[1;32m~\\Desktop\\Cursos Platzi\\Deep learning con Pytorch\\plot_helpers.py\u001b[0m in \u001b[0;36m<module>\u001b[1;34m\u001b[0m\n\u001b[0;32m      1\u001b[0m \u001b[1;32mimport\u001b[0m \u001b[0mmatplotlib\u001b[0m\u001b[1;33m.\u001b[0m\u001b[0mpyplot\u001b[0m \u001b[1;32mas\u001b[0m \u001b[0mplt\u001b[0m\u001b[1;33m\u001b[0m\u001b[1;33m\u001b[0m\u001b[0m\n\u001b[0;32m      2\u001b[0m \u001b[1;32mimport\u001b[0m \u001b[0mnumpy\u001b[0m \u001b[1;32mas\u001b[0m \u001b[0mnp\u001b[0m\u001b[1;33m\u001b[0m\u001b[1;33m\u001b[0m\u001b[0m\n\u001b[1;32m----> 3\u001b[1;33m \u001b[1;32mimport\u001b[0m \u001b[0mskimage\u001b[0m\u001b[1;33m.\u001b[0m\u001b[0mio\u001b[0m \u001b[1;32mas\u001b[0m \u001b[0mio\u001b[0m\u001b[1;33m\u001b[0m\u001b[1;33m\u001b[0m\u001b[0m\n\u001b[0m\u001b[0;32m      4\u001b[0m \u001b[1;32mimport\u001b[0m \u001b[0mmatplotlib\u001b[0m\u001b[1;33m.\u001b[0m\u001b[0mpyplot\u001b[0m \u001b[1;32mas\u001b[0m \u001b[0mplt\u001b[0m\u001b[1;33m\u001b[0m\u001b[1;33m\u001b[0m\u001b[0m\n\u001b[0;32m      5\u001b[0m \u001b[1;32mimport\u001b[0m \u001b[0mtorch\u001b[0m\u001b[1;33m\u001b[0m\u001b[1;33m\u001b[0m\u001b[0m\n",
      "\u001b[1;31mModuleNotFoundError\u001b[0m: No module named 'skimage'"
     ]
    }
   ],
   "source": [
    "from plot_helpers import imshow"
   ]
  },
  {
   "cell_type": "code",
   "execution_count": 40,
   "id": "840358cb-2caa-4d28-80dd-207e0a279c68",
   "metadata": {},
   "outputs": [
    {
     "ename": "NameError",
     "evalue": "name 'imshow' is not defined",
     "output_type": "error",
     "traceback": [
      "\u001b[1;31m---------------------------------------------------------------------------\u001b[0m",
      "\u001b[1;31mNameError\u001b[0m                                 Traceback (most recent call last)",
      "\u001b[1;32m<ipython-input-40-dc039e9d3515>\u001b[0m in \u001b[0;36m<module>\u001b[1;34m\u001b[0m\n\u001b[0;32m      3\u001b[0m \u001b[1;32mfor\u001b[0m \u001b[0minputs\u001b[0m\u001b[1;33m,\u001b[0m \u001b[0mtargets\u001b[0m \u001b[1;32min\u001b[0m \u001b[0mdataloader\u001b[0m\u001b[1;33m:\u001b[0m\u001b[1;33m\u001b[0m\u001b[1;33m\u001b[0m\u001b[0m\n\u001b[0;32m      4\u001b[0m     \u001b[0mout\u001b[0m \u001b[1;33m=\u001b[0m \u001b[0mmake_grid\u001b[0m\u001b[1;33m(\u001b[0m\u001b[0minputs\u001b[0m\u001b[1;33m)\u001b[0m\u001b[1;33m\u001b[0m\u001b[1;33m\u001b[0m\u001b[0m\n\u001b[1;32m----> 5\u001b[1;33m     \u001b[0mimshow\u001b[0m\u001b[1;33m(\u001b[0m\u001b[0mout\u001b[0m\u001b[1;33m)\u001b[0m\u001b[1;33m\u001b[0m\u001b[1;33m\u001b[0m\u001b[0m\n\u001b[0m\u001b[0;32m      6\u001b[0m     \u001b[0mprint\u001b[0m\u001b[1;33m(\u001b[0m\u001b[0mtargets\u001b[0m\u001b[1;33m)\u001b[0m\u001b[1;33m\u001b[0m\u001b[1;33m\u001b[0m\u001b[0m\n\u001b[0;32m      7\u001b[0m     \u001b[1;32mbreak\u001b[0m\u001b[1;33m\u001b[0m\u001b[1;33m\u001b[0m\u001b[0m\n",
      "\u001b[1;31mNameError\u001b[0m: name 'imshow' is not defined"
     ]
    }
   ],
   "source": [
    "from torchvision.utils import make_grid # \n",
    "\n",
    "for inputs, targets in dataloader:\n",
    "    out = make_grid(inputs)\n",
    "    imshow(out)\n",
    "    print(targets)\n",
    "    break"
   ]
  },
  {
   "cell_type": "code",
   "execution_count": null,
   "id": "24f1585a-8363-43e9-8176-f3076fbbe3b4",
   "metadata": {},
   "outputs": [],
   "source": []
  }
 ],
 "metadata": {
  "kernelspec": {
   "display_name": "Python cHido (pytorch)",
   "language": "python",
   "name": "pytorch"
  },
  "language_info": {
   "codemirror_mode": {
    "name": "ipython",
    "version": 3
   },
   "file_extension": ".py",
   "mimetype": "text/x-python",
   "name": "python",
   "nbconvert_exporter": "python",
   "pygments_lexer": "ipython3",
   "version": "3.6.13"
  }
 },
 "nbformat": 4,
 "nbformat_minor": 5
}
